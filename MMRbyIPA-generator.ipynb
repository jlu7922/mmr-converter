{
 "cells": [
  {
   "cell_type": "markdown",
   "id": "b6915321-8436-4e16-9679-5a3565957159",
   "metadata": {},
   "source": [
    "\n",
    "### Save MMR XLSX as CSV (UTF-8) First ###\n",
    "\n",
    "---"
   ]
  },
  {
   "cell_type": "code",
   "execution_count": 1,
   "id": "b4336abb-250f-41b5-a65e-3110000ecefa",
   "metadata": {},
   "outputs": [],
   "source": [
    "import pandas as pd\n",
    "import re\n",
    "from openpyxl import load_workbook\n",
    "from openpyxl.worksheet.table import Table, TableStyleInfo\n",
    "from openpyxl.utils import get_column_letter"
   ]
  },
  {
   "cell_type": "code",
   "execution_count": 2,
   "id": "3fe76736-dec7-4ea1-a75f-bdf259cd98bc",
   "metadata": {},
   "outputs": [],
   "source": [
    "file_path = \"MMR byIPA_20250102.csv\"  \n",
    "df = pd.read_csv(file_path, low_memory=False)"
   ]
  },
  {
   "cell_type": "code",
   "execution_count": 3,
   "id": "4e4d5db5",
   "metadata": {},
   "outputs": [],
   "source": [
    "# Function to remove illegal characters\n",
    "def remove_illegal_chars(value):\n",
    "    if isinstance(value, str):\n",
    "        return re.sub(r\"[\\x00-\\x1F\\x7F-\\x9F]\", \"\", value)\n",
    "    return value"
   ]
  },
  {
   "cell_type": "code",
   "execution_count": 4,
   "id": "d7b14b51",
   "metadata": {},
   "outputs": [],
   "source": [
    "filtered_period_df = df[df[\"PERIOD\"] == 202501]"
   ]
  },
  {
   "cell_type": "code",
   "execution_count": 5,
   "id": "5fbe5d20",
   "metadata": {},
   "outputs": [],
   "source": [
    "# Clean the DataFrame to remove illegal characters\n",
    "filtered_period_df = filtered_period_df.map(remove_illegal_chars)"
   ]
  },
  {
   "cell_type": "code",
   "execution_count": 6,
   "id": "93be66ef",
   "metadata": {},
   "outputs": [],
   "source": [
    "columns_to_convert = [\n",
    "    \"Total Part A MA Payment\", \"Total Part B MA Payment\", \n",
    "    \"Rebate for Part A Cost Sharing Reduction\", \"Rebate for Part B Cost Sharing Reduction\", \n",
    "    \"Rebate for Other Part A Mandatory Supplemental Benefits\", \n",
    "    \"Rebate for Other Part B Mandatory Supplemental Benefits\", \n",
    "    \"Rebate for Part D Supplemental Benefits - Part A Amount\", \n",
    "    \"Rebate for Part D Supplemental Benefits - Part B Amount\", \n",
    "    \"Rebate for Part B Premium Reduction - Part A Amount\", \n",
    "    \"Rebate for Part B Premium Reduction - Part B Amount\"\n",
    "]"
   ]
  },
  {
   "cell_type": "code",
   "execution_count": 7,
   "id": "1d568caf",
   "metadata": {},
   "outputs": [],
   "source": [
    "# Convert specified columns to numeric\n",
    "for col in columns_to_convert:\n",
    "    filtered_period_df[col] = pd.to_numeric(filtered_period_df[col], errors='ignore')  # Convert columns to numbers"
   ]
  },
  {
   "cell_type": "code",
   "execution_count": 8,
   "id": "742df61f-b215-4b53-a1c0-56567090a46a",
   "metadata": {},
   "outputs": [],
   "source": [
    "# Save the results to an Excel file\n",
    "with pd.ExcelWriter(\"output.xlsx\", engine=\"openpyxl\") as writer:\n",
    "    # Write the filtered data to a new sheet named \"202501\"\n",
    "    filtered_period_df.to_excel(writer, sheet_name=\"202501\", index=False)"
   ]
  },
  {
   "cell_type": "code",
   "execution_count": 9,
   "id": "b8b206ab",
   "metadata": {},
   "outputs": [],
   "source": [
    "# Load workbook to add PivotTable\n",
    "wb = load_workbook(\"output.xlsx\")\n",
    "ws_data = wb[\"202501\"]\n",
    "\n",
    "# Create a new sheet for PivotTable at the beginning\n",
    "wb.create_sheet(title=\"Table\", index=0)\n",
    "ws_pivot = wb[\"Table\"]"
   ]
  },
  {
   "cell_type": "code",
   "execution_count": 10,
   "id": "0785bc64",
   "metadata": {},
   "outputs": [
    {
     "name": "stdout",
     "output_type": "stream",
     "text": [
      "Data and PivotTable have been saved to 'output.xlsx'.\n"
     ]
    }
   ],
   "source": [
    "# Extract column indexes\n",
    "ipa_col = None\n",
    "period_col = None\n",
    "for col in range(1, ws_data.max_column + 1):\n",
    "    header = ws_data.cell(row=1, column=col).value\n",
    "    if header == \"IPA\":\n",
    "        ipa_col = get_column_letter(col)\n",
    "    elif header == \"PERIOD\":\n",
    "        period_col = get_column_letter(col)\n",
    "\n",
    "if ipa_col and period_col:\n",
    "    # Insert headers in Table sheet\n",
    "    ws_pivot.append([\"PERIOD\", \"IPA\", \"Count of IPA\"])\n",
    "    \n",
    "    # Create dictionary for IPA count\n",
    "    ipa_counts = {}\n",
    "    \n",
    "    for row in range(2, ws_data.max_row + 1):\n",
    "        period_value = ws_data[f\"{period_col}{row}\"].value\n",
    "        ipa_value = ws_data[f\"{ipa_col}{row}\"].value\n",
    "\n",
    "        if ipa_value:\n",
    "            key = (period_value, ipa_value)\n",
    "            ipa_counts[key] = ipa_counts.get(key, 0) + 1\n",
    "\n",
    "    # Write counts to Table sheet\n",
    "    for (period, ipa), count in ipa_counts.items():\n",
    "        ws_pivot.append([period, ipa, count])\n",
    "\n",
    "    # Convert data to a Table format for better readability\n",
    "    table = Table(displayName=\"Table\", ref=f\"A1:C{len(ipa_counts) + 1}\")\n",
    "    style = TableStyleInfo(\n",
    "        name=\"TableStyleMedium9\", showFirstColumn=False,\n",
    "        showLastColumn=False, showRowStripes=True, showColumnStripes=False # https://openpyxl.readthedocs.io/en/stable/worksheet_tables.html\n",
    "    )\n",
    "    table.tableStyleInfo = style\n",
    "    ws_pivot.add_table(table)\n",
    "\n",
    "wb.save(\"output.xlsx\")\n",
    "print(\"Data and PivotTable have been saved to 'output.xlsx'.\")"
   ]
  }
 ],
 "metadata": {
  "kernelspec": {
   "display_name": "base",
   "language": "python",
   "name": "python3"
  },
  "language_info": {
   "codemirror_mode": {
    "name": "ipython",
    "version": 3
   },
   "file_extension": ".py",
   "mimetype": "text/x-python",
   "name": "python",
   "nbconvert_exporter": "python",
   "pygments_lexer": "ipython3",
   "version": "3.12.7"
  }
 },
 "nbformat": 4,
 "nbformat_minor": 5
}
